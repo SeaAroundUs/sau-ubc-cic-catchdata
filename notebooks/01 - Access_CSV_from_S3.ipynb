{
 "cells": [
  {
   "cell_type": "code",
   "execution_count": null,
   "id": "9ae77ae7",
   "metadata": {},
   "outputs": [],
   "source": [
    "# Uncomment and run this cell if Pandas library is not already installed\n",
    "\n",
    "# ! pip install --upgrade pip\n",
    "\n",
    "# ! pip install pandas\n"
   ]
  },
  {
   "cell_type": "code",
   "execution_count": 1,
   "id": "2fdc4fef",
   "metadata": {},
   "outputs": [],
   "source": [
    "# import library\n",
    "\n",
    "import pandas as pd\n"
   ]
  },
  {
   "cell_type": "code",
   "execution_count": 2,
   "id": "12759f48",
   "metadata": {},
   "outputs": [],
   "source": [
    "# define CloudFront domain name (to access S3) and data\n",
    "\n",
    "cloudfront = 'https://d3cu2src083cxg.cloudfront.net'\n",
    "data_key = 'rfmo_query_result.csv'\n",
    "\n",
    "data_location = '{}/{}'.format(cloudfront, data_key)\n"
   ]
  },
  {
   "cell_type": "code",
   "execution_count": 3,
   "id": "179912ae",
   "metadata": {},
   "outputs": [
    {
     "data": {
      "text/plain": [
       "(1027995, 7)"
      ]
     },
     "execution_count": 3,
     "metadata": {},
     "output_type": "execute_result"
    }
   ],
   "source": [
    "# df_rfmo = pd.read_csv(data_location) # if all the columns need to be loaded\n",
    "\n",
    "# load select columns\n",
    "df_rfmo = pd.read_csv(data_location, \n",
    "                      usecols = ['year', 'name_rfmo', 'name_comm_group', 'name_fishing_entity', 'name_sector_type', 'catch_sum', 'real_value'])\n",
    "\n",
    "# rename columns as needed\n",
    "df_rfmo.rename(columns = {\"name_rfmo\": \"rfmo\", \"name_comm_group\": \"commercial_group\", \"name_fishing_entity\": \"fishing_entity\", \"name_sector_type\": \"sector_type\"}, \n",
    "               inplace = True)\n",
    "\n",
    "# print shape (rows, columns) of dataframe\n",
    "df_rfmo.shape\n"
   ]
  },
  {
   "cell_type": "code",
   "execution_count": 4,
   "id": "e0700d90",
   "metadata": {},
   "outputs": [
    {
     "data": {
      "text/html": [
       "<div>\n",
       "<style scoped>\n",
       "    .dataframe tbody tr th:only-of-type {\n",
       "        vertical-align: middle;\n",
       "    }\n",
       "\n",
       "    .dataframe tbody tr th {\n",
       "        vertical-align: top;\n",
       "    }\n",
       "\n",
       "    .dataframe thead th {\n",
       "        text-align: right;\n",
       "    }\n",
       "</style>\n",
       "<table border=\"1\" class=\"dataframe\">\n",
       "  <thead>\n",
       "    <tr style=\"text-align: right;\">\n",
       "      <th></th>\n",
       "      <th>rfmo</th>\n",
       "      <th>year</th>\n",
       "      <th>commercial_group</th>\n",
       "      <th>fishing_entity</th>\n",
       "      <th>sector_type</th>\n",
       "      <th>catch_sum</th>\n",
       "      <th>real_value</th>\n",
       "    </tr>\n",
       "  </thead>\n",
       "  <tbody>\n",
       "    <tr>\n",
       "      <th>0</th>\n",
       "      <td>NEAFC</td>\n",
       "      <td>1950</td>\n",
       "      <td>Other fishes &amp; inverts</td>\n",
       "      <td>Belgium</td>\n",
       "      <td>Industrial</td>\n",
       "      <td>1082.915358</td>\n",
       "      <td>1.587554e+06</td>\n",
       "    </tr>\n",
       "    <tr>\n",
       "      <th>1</th>\n",
       "      <td>NEAFC</td>\n",
       "      <td>1950</td>\n",
       "      <td>Other fishes &amp; inverts</td>\n",
       "      <td>Belgium</td>\n",
       "      <td>Industrial</td>\n",
       "      <td>112.044683</td>\n",
       "      <td>1.642575e+05</td>\n",
       "    </tr>\n",
       "    <tr>\n",
       "      <th>2</th>\n",
       "      <td>NEAFC</td>\n",
       "      <td>1950</td>\n",
       "      <td>Other fishes &amp; inverts</td>\n",
       "      <td>Belgium</td>\n",
       "      <td>Industrial</td>\n",
       "      <td>1937.004283</td>\n",
       "      <td>2.839648e+06</td>\n",
       "    </tr>\n",
       "  </tbody>\n",
       "</table>\n",
       "</div>"
      ],
      "text/plain": [
       "    rfmo  year        commercial_group fishing_entity sector_type  \\\n",
       "0  NEAFC  1950  Other fishes & inverts        Belgium  Industrial   \n",
       "1  NEAFC  1950  Other fishes & inverts        Belgium  Industrial   \n",
       "2  NEAFC  1950  Other fishes & inverts        Belgium  Industrial   \n",
       "\n",
       "     catch_sum    real_value  \n",
       "0  1082.915358  1.587554e+06  \n",
       "1   112.044683  1.642575e+05  \n",
       "2  1937.004283  2.839648e+06  "
      ]
     },
     "execution_count": 4,
     "metadata": {},
     "output_type": "execute_result"
    }
   ],
   "source": [
    "# sample data\n",
    "\n",
    "df_rfmo.head(3)\n"
   ]
  },
  {
   "cell_type": "code",
   "execution_count": 5,
   "id": "f826c99d",
   "metadata": {},
   "outputs": [
    {
     "name": "stdout",
     "output_type": "stream",
     "text": [
      "<class 'pandas.core.frame.DataFrame'>\n",
      "RangeIndex: 1027995 entries, 0 to 1027994\n",
      "Data columns (total 7 columns):\n",
      " #   Column            Non-Null Count    Dtype  \n",
      "---  ------            --------------    -----  \n",
      " 0   rfmo              1027995 non-null  object \n",
      " 1   year              1027995 non-null  int64  \n",
      " 2   commercial_group  1027995 non-null  object \n",
      " 3   fishing_entity    1027995 non-null  object \n",
      " 4   sector_type       1027995 non-null  object \n",
      " 5   catch_sum         1027995 non-null  float64\n",
      " 6   real_value        1027995 non-null  float64\n",
      "dtypes: float64(2), int64(1), object(4)\n",
      "memory usage: 54.9+ MB\n"
     ]
    }
   ],
   "source": [
    "# dataframe information\n",
    "\n",
    "df_rfmo.info()\n"
   ]
  },
  {
   "cell_type": "markdown",
   "id": "70837849",
   "metadata": {},
   "source": [
    "## Data Analysis example"
   ]
  },
  {
   "cell_type": "markdown",
   "id": "1773dd84",
   "metadata": {},
   "source": [
    "### Mean catch sum and real value in Iceland by year (after 2010)"
   ]
  },
  {
   "cell_type": "code",
   "execution_count": 6,
   "id": "23da476c",
   "metadata": {},
   "outputs": [
    {
     "data": {
      "text/html": [
       "<div>\n",
       "<style scoped>\n",
       "    .dataframe tbody tr th:only-of-type {\n",
       "        vertical-align: middle;\n",
       "    }\n",
       "\n",
       "    .dataframe tbody tr th {\n",
       "        vertical-align: top;\n",
       "    }\n",
       "\n",
       "    .dataframe thead th {\n",
       "        text-align: right;\n",
       "    }\n",
       "</style>\n",
       "<table border=\"1\" class=\"dataframe\">\n",
       "  <thead>\n",
       "    <tr style=\"text-align: right;\">\n",
       "      <th></th>\n",
       "      <th>year</th>\n",
       "      <th>catch_sum</th>\n",
       "      <th>real_value</th>\n",
       "    </tr>\n",
       "  </thead>\n",
       "  <tbody>\n",
       "    <tr>\n",
       "      <th>0</th>\n",
       "      <td>2011</td>\n",
       "      <td>1138.40</td>\n",
       "      <td>1.172804e+08</td>\n",
       "    </tr>\n",
       "    <tr>\n",
       "      <th>1</th>\n",
       "      <td>2012</td>\n",
       "      <td>1357.82</td>\n",
       "      <td>2.524238e+08</td>\n",
       "    </tr>\n",
       "    <tr>\n",
       "      <th>2</th>\n",
       "      <td>2013</td>\n",
       "      <td>1297.89</td>\n",
       "      <td>2.108246e+08</td>\n",
       "    </tr>\n",
       "    <tr>\n",
       "      <th>3</th>\n",
       "      <td>2014</td>\n",
       "      <td>1033.93</td>\n",
       "      <td>1.146456e+08</td>\n",
       "    </tr>\n",
       "    <tr>\n",
       "      <th>4</th>\n",
       "      <td>2015</td>\n",
       "      <td>1579.63</td>\n",
       "      <td>2.522778e+08</td>\n",
       "    </tr>\n",
       "    <tr>\n",
       "      <th>5</th>\n",
       "      <td>2016</td>\n",
       "      <td>1232.25</td>\n",
       "      <td>1.652062e+08</td>\n",
       "    </tr>\n",
       "  </tbody>\n",
       "</table>\n",
       "</div>"
      ],
      "text/plain": [
       "   year  catch_sum    real_value\n",
       "0  2011    1138.40  1.172804e+08\n",
       "1  2012    1357.82  2.524238e+08\n",
       "2  2013    1297.89  2.108246e+08\n",
       "3  2014    1033.93  1.146456e+08\n",
       "4  2015    1579.63  2.522778e+08\n",
       "5  2016    1232.25  1.652062e+08"
      ]
     },
     "execution_count": 6,
     "metadata": {},
     "output_type": "execute_result"
    }
   ],
   "source": [
    "\n",
    "df_rfmo[(df_rfmo['year'] > 2010) & (df_rfmo['fishing_entity'] == 'Iceland')].groupby('year', as_index = False).agg({'catch_sum':'mean', 'real_value':'mean'}).round(2)\n"
   ]
  },
  {
   "cell_type": "markdown",
   "id": "80a03b97",
   "metadata": {},
   "source": [
    "> Refer to data analysis notebook for further examples"
   ]
  }
 ],
 "metadata": {
  "kernelspec": {
   "display_name": "conda_python3",
   "language": "python",
   "name": "conda_python3"
  },
  "language_info": {
   "codemirror_mode": {
    "name": "ipython",
    "version": 3
   },
   "file_extension": ".py",
   "mimetype": "text/x-python",
   "name": "python",
   "nbconvert_exporter": "python",
   "pygments_lexer": "ipython3",
   "version": "3.6.13"
  }
 },
 "nbformat": 4,
 "nbformat_minor": 5
}
